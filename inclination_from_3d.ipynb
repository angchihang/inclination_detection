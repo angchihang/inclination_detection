{
 "cells": [
  {
   "cell_type": "code",
   "execution_count": 19,
   "metadata": {},
   "outputs": [],
   "source": [
    "import cv2 as cv\n",
    "import numpy as np\n",
    "import matplotlib.pyplot as plt\n",
    "import PIL.ExifTags\n",
    "import PIL.Image\n",
    "import json"
   ]
  },
  {
   "cell_type": "code",
   "execution_count": 27,
   "metadata": {},
   "outputs": [],
   "source": [
    "img1 = cv.imread(\"./data/IMG_8047.JPG\", cv.IMREAD_GRAYSCALE)\n",
    "img2 = cv.imread(\"./data/IMG_8048.JPG\", cv.IMREAD_GRAYSCALE)"
   ]
  },
  {
   "cell_type": "code",
   "execution_count": 18,
   "metadata": {},
   "outputs": [
    {
     "name": "stdout",
     "output_type": "stream",
     "text": [
      "by metadata from image exif, f = 27.182 mm, cx = 3888 pixels, cy = 5184 pixels\n"
     ]
    }
   ],
   "source": [
    "\n",
    "img = PIL.Image.open('data\\IMG_8048.JPG')\n",
    "exif_data = img._getexif()\n",
    "\n",
    "exif = {\n",
    "    PIL.ExifTags.TAGS[k]: v\n",
    "    for k, v in img._getexif().items()\n",
    "    if k in PIL.ExifTags.TAGS\n",
    "}\n",
    "\n",
    "print(\"by metadata from image exif, f = {} mm, cx = {} pixels, cy = {} pixels\".format(exif['FocalLength'], exif['ExifImageHeight'], exif['ExifImageWidth']))\n"
   ]
  },
  {
   "cell_type": "code",
   "execution_count": 42,
   "metadata": {},
   "outputs": [],
   "source": [
    "sift = cv.SIFT_create()\n",
    "# find the keypoints and descriptors with SIFT\n",
    "kp1, des1 = sift.detectAndCompute(img1,None)\n",
    "kp2, des2 = sift.detectAndCompute(img2,None)\n",
    "# FLANN parameters\n",
    "FLANN_INDEX_KDTREE = 1\n",
    "index_params = dict(algorithm = FLANN_INDEX_KDTREE, trees = 5)\n",
    "search_params = dict(checks=50)\n",
    "flann = cv.FlannBasedMatcher(index_params,search_params)\n",
    "matches = flann.knnMatch(des1,des2,k=2)\n",
    "pts1 = []\n",
    "pts2 = []\n",
    "good_matches = []\n",
    "# ratio test as per Lowe's paper\n",
    "for i,(m,n) in enumerate(matches):\n",
    "    if m.distance < 0.75*n.distance:\n",
    "        pts2.append(kp2[m.trainIdx].pt)\n",
    "        pts1.append(kp1[m.queryIdx].pt)\n",
    "        good_matches.append([m])\n",
    "pts1 = np.asarray(pts1)\n",
    "pts2 = np.asarray(pts2)"
   ]
  },
  {
   "cell_type": "code",
   "execution_count": 49,
   "metadata": {},
   "outputs": [],
   "source": [
    "camera_intrinsics = np.array([\n",
    "    [1000, 0, 2500],\n",
    "    [0, 1000, 2000],\n",
    "    [0, 0, 1]\n",
    "])\n",
    "E, mask = cv.findEssentialMat(pts1, pts2, camera_intrinsics)\n",
    "_, R, t, mask = cv.recoverPose(E, pts1, pts2, camera_intrinsics)\n",
    "# obtained R, t, construct P\n",
    "# [x] x PX = 0\n",
    "# [x] and P are known\n",
    "# solve for X\n",
    "# triangulation\n"
   ]
  },
  {
   "cell_type": "code",
   "execution_count": null,
   "metadata": {},
   "outputs": [],
   "source": []
  }
 ],
 "metadata": {
  "kernelspec": {
   "display_name": "base",
   "language": "python",
   "name": "python3"
  },
  "language_info": {
   "codemirror_mode": {
    "name": "ipython",
    "version": 3
   },
   "file_extension": ".py",
   "mimetype": "text/x-python",
   "name": "python",
   "nbconvert_exporter": "python",
   "pygments_lexer": "ipython3",
   "version": "3.9.15"
  }
 },
 "nbformat": 4,
 "nbformat_minor": 2
}
